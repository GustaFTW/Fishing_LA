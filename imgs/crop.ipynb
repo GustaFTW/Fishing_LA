{
 "cells": [
  {
   "cell_type": "code",
   "execution_count": 1,
   "metadata": {},
   "outputs": [],
   "source": [
    "import pyautogui\n",
    "import pyscreeze\n",
    "import numpy as np\n",
    "import cv2 as cv\n",
    "import time"
   ]
  },
  {
   "cell_type": "code",
   "execution_count": 2,
   "metadata": {},
   "outputs": [],
   "source": [
    "def find(object_to_find:np.ndarray, img:np.ndarray, confidence:float = 0.7) -> pyscreeze.Box:\n",
    "    \"\"\"\n",
    "        Function that receives a image and locate that image on screen, \n",
    "        then, it expands the coordinates to a larger box\n",
    "\n",
    "        args:\n",
    "            image: image that the function will locate on the screen\n",
    "    \n",
    "        returns:\n",
    "            image: returns the coords for the bait, if not found it returns (0, 0, 0, 0)\n",
    "    \"\"\"\n",
    "    # print(\"Procurando isca.\")\n",
    "    try:\n",
    "        res = pyautogui.locate(object_to_find, img, confidence=confidence)\n",
    "        # print(\"Isca encontrada.\")\n",
    "    except:\n",
    "        res = (0, 0, 0, 0)\n",
    "        raise ValueError(\"Isca não encontrada.\")\n",
    "    \n",
    "    finally:\n",
    "       return res \n",
    "\n",
    "def capture_screen(aoi):\n",
    "    \"\"\"\n",
    "        Captures screen based on a resolution of the screen\n",
    "    \"\"\"\n",
    "    while True:\n",
    "        img = pyautogui.screenshot()\n",
    "        img = np.array(img)                         # Convert to NumPy array\n",
    "        img = cv.cvtColor(img, cv.COLOR_RGB2BGR)    # Convert RGB to BGR color\n",
    "        \n",
    "\n",
    "        # Look for the bait\n",
    "        res = find(\"imagem_isca_crop.jpg\", img)\n",
    "        \n",
    "        # Define the coordinates for cropping\n",
    "        x, y, w, h = res  # Modify these values according to your requirements\n",
    "\n",
    "        # Define the shift\n",
    "        shift = 75\n",
    "        \n",
    "        # Crop the image\n",
    "        img = cv.resize(img, (0, 0), fx=0.5, fy=0.5)\n",
    "        cropped_image = img[(y - shift):y+(h + shift), (x - shift):x +(w + shift)]\n",
    "\n",
    "        # Break loop and end test\n",
    "        key = cv.waitKey(1)\n",
    "        if key == ord('q'):\n",
    "            cv.destroyAllWindows()\n",
    "            break\n",
    "        else:\n",
    "            cv.imshow(\"Vision of AOI\", cropped_image)"
   ]
  },
  {
   "cell_type": "code",
   "execution_count": 3,
   "metadata": {},
   "outputs": [
    {
     "ename": "error",
     "evalue": "OpenCV(4.9.0) D:\\a\\opencv-python\\opencv-python\\opencv\\modules\\highgui\\src\\window.cpp:971: error: (-215:Assertion failed) size.width>0 && size.height>0 in function 'cv::imshow'\n",
     "output_type": "error",
     "traceback": [
      "\u001b[1;31m---------------------------------------------------------------------------\u001b[0m",
      "\u001b[1;31merror\u001b[0m                                     Traceback (most recent call last)",
      "Cell \u001b[1;32mIn[3], line 6\u001b[0m\n\u001b[0;32m      4\u001b[0m res \u001b[38;5;241m=\u001b[39m find(\u001b[38;5;124m\"\u001b[39m\u001b[38;5;124mimagem_isca_crop.jpg\u001b[39m\u001b[38;5;124m\"\u001b[39m, img)\n\u001b[0;32m      5\u001b[0m \u001b[38;5;28;01mwhile\u001b[39;00m \u001b[38;5;28;01mTrue\u001b[39;00m:\n\u001b[1;32m----> 6\u001b[0m     \u001b[43mcapture_screen\u001b[49m\u001b[43m(\u001b[49m\u001b[43mres\u001b[49m\u001b[43m)\u001b[49m\n",
      "Cell \u001b[1;32mIn[2], line 52\u001b[0m, in \u001b[0;36mcapture_screen\u001b[1;34m(aoi)\u001b[0m\n\u001b[0;32m     50\u001b[0m     \u001b[38;5;28;01mbreak\u001b[39;00m\n\u001b[0;32m     51\u001b[0m \u001b[38;5;28;01melse\u001b[39;00m:\n\u001b[1;32m---> 52\u001b[0m     \u001b[43mcv\u001b[49m\u001b[38;5;241;43m.\u001b[39;49m\u001b[43mimshow\u001b[49m\u001b[43m(\u001b[49m\u001b[38;5;124;43m\"\u001b[39;49m\u001b[38;5;124;43mVision of AOI\u001b[39;49m\u001b[38;5;124;43m\"\u001b[39;49m\u001b[43m,\u001b[49m\u001b[43m \u001b[49m\u001b[43mcropped_image\u001b[49m\u001b[43m)\u001b[49m\n",
      "\u001b[1;31merror\u001b[0m: OpenCV(4.9.0) D:\\a\\opencv-python\\opencv-python\\opencv\\modules\\highgui\\src\\window.cpp:971: error: (-215:Assertion failed) size.width>0 && size.height>0 in function 'cv::imshow'\n"
     ]
    }
   ],
   "source": [
    "img = pyautogui.screenshot()\n",
    "img = np.array(img)    # Convert to NumPy array\n",
    "img = cv.cvtColor(img, cv.COLOR_RGB2BGR)\n",
    "res = find(\"imagem_isca_crop.jpg\", img)\n",
    "while True:\n",
    "    capture_screen(res)"
   ]
  },
  {
   "cell_type": "code",
   "execution_count": null,
   "metadata": {},
   "outputs": [
    {
     "name": "stdout",
     "output_type": "stream",
     "text": [
      "PIL Screen Capture Speed Test\n",
      "Screen Resolution: 1920x1080\n",
      "No event detected\n"
     ]
    },
    {
     "ename": "TypeError",
     "evalue": "only integer scalar arrays can be converted to a scalar index",
     "output_type": "error",
     "traceback": [
      "\u001b[1;31m---------------------------------------------------------------------------\u001b[0m",
      "\u001b[1;31mTypeError\u001b[0m                                 Traceback (most recent call last)",
      "Cell \u001b[1;32mIn[5], line 35\u001b[0m\n\u001b[0;32m     32\u001b[0m img \u001b[38;5;241m=\u001b[39m np\u001b[38;5;241m.\u001b[39marray(img)                         \u001b[38;5;66;03m# Convert to NumPy array\u001b[39;00m\n\u001b[0;32m     33\u001b[0m img \u001b[38;5;241m=\u001b[39m cv\u001b[38;5;241m.\u001b[39mcvtColor(img, cv\u001b[38;5;241m.\u001b[39mCOLOR_RGB2BGR)    \u001b[38;5;66;03m# Convert RGB to BGR color\u001b[39;00m\n\u001b[1;32m---> 35\u001b[0m cropped_image \u001b[38;5;241m=\u001b[39m \u001b[43mimg\u001b[49m\u001b[43m[\u001b[49m\u001b[43m(\u001b[49m\u001b[43my\u001b[49m\u001b[43m \u001b[49m\u001b[38;5;241;43m-\u001b[39;49m\u001b[43m \u001b[49m\u001b[43mshift\u001b[49m\u001b[43m)\u001b[49m\u001b[43m:\u001b[49m\u001b[43my\u001b[49m\u001b[38;5;241;43m+\u001b[39;49m\u001b[43m(\u001b[49m\u001b[43mh\u001b[49m\u001b[43m \u001b[49m\u001b[38;5;241;43m+\u001b[39;49m\u001b[43m \u001b[49m\u001b[43mshift\u001b[49m\u001b[43m)\u001b[49m\u001b[43m,\u001b[49m\u001b[43m \u001b[49m\u001b[43m(\u001b[49m\u001b[43mx\u001b[49m\u001b[43m \u001b[49m\u001b[38;5;241;43m-\u001b[39;49m\u001b[43m \u001b[49m\u001b[43mshift\u001b[49m\u001b[43m)\u001b[49m\u001b[43m:\u001b[49m\u001b[43mx\u001b[49m\u001b[43m \u001b[49m\u001b[38;5;241;43m+\u001b[39;49m\u001b[43m(\u001b[49m\u001b[43mw\u001b[49m\u001b[43m \u001b[49m\u001b[38;5;241;43m+\u001b[39;49m\u001b[43m \u001b[49m\u001b[43mshift\u001b[49m\u001b[43m)\u001b[49m\u001b[43m]\u001b[49m\n\u001b[0;32m     36\u001b[0m img \u001b[38;5;241m=\u001b[39m cv\u001b[38;5;241m.\u001b[39mresize(img, (\u001b[38;5;241m0\u001b[39m, \u001b[38;5;241m0\u001b[39m), fx\u001b[38;5;241m=\u001b[39m\u001b[38;5;241m0.5\u001b[39m, fy\u001b[38;5;241m=\u001b[39m\u001b[38;5;241m0.5\u001b[39m)\n\u001b[0;32m     38\u001b[0m \u001b[38;5;66;03m# Convert the image to hsv\u001b[39;00m\n",
      "\u001b[1;31mTypeError\u001b[0m: only integer scalar arrays can be converted to a scalar index"
     ]
    }
   ],
   "source": [
    "w, h = pyautogui.size()\n",
    "print(\"PIL Screen Capture Speed Test\")\n",
    "print(\"Screen Resolution: \" + str(w) + 'x' + str(h))\n",
    "\n",
    "img = None\n",
    "t0 = time.time()\n",
    "n_frames = 1\n",
    "while True:\n",
    "    img = pyautogui.screenshot()\n",
    "    img = np.array(img)                         # Convert to NumPy array\n",
    "    img = cv.cvtColor(img, cv.COLOR_RGB2BGR)    # Convert RGB to BGR color\n",
    "    \n",
    "\n",
    "    # Look for the bait\n",
    "    res = find(\"imagem_isca_crop.jpg\", img)\n",
    "    \n",
    "    # Define the coordinates for cropping\n",
    "    x, y, w, h = res  # Modify these values according to your requirements\n",
    "\n",
    "    # Define the shift\n",
    "    shift = 75\n",
    "    \n",
    "    # Crop the image\n",
    "    cropped_image = img[(y - shift):y+(h + shift), (x - shift):x +(w + shift)]\n",
    "\n",
    "    img = cv.resize(img, (0, 0), fx=0.5, fy=0.5)\n",
    "    \n",
    "    if res != (0, 0, 0, 0):\n",
    "        event = False\n",
    "        while event == False: \n",
    "            img = pyautogui.screenshot()\n",
    "            img = np.array(img)                         # Convert to NumPy array\n",
    "            img = cv.cvtColor(img, cv.COLOR_RGB2BGR)    # Convert RGB to BGR color\n",
    "            \n",
    "            cropped_image = img[(y - shift):y+(h + shift), (x - shift):x +(w + shift)]\n",
    "            img = cv.resize(img, (0, 0), fx=0.5, fy=0.5)\n",
    "\n",
    "            # Convert the image to hsv\n",
    "            image_hsv = cv.cvtColor(cropped_image, cv.COLOR_BGR2HSV)\n",
    "            h, s, v = cv.split(image_hsv)\n",
    "                                    # [24, 87, 217]\n",
    "            lower_yellow = np.array([14, 75, 207])\n",
    "            upper_yellow = np.array([34, 107, 227])\n",
    "\n",
    "            # Define the mask for the threshold\n",
    "            mask = cv.inRange(image_hsv, lower_yellow, upper_yellow)\n",
    "\n",
    "            # Apply the mask using the and operation\n",
    "            yellow_regions = cv.bitwise_and(image_hsv, image_hsv, mask=mask)\n",
    "\n",
    "            # Convert the image back into an rgb image\n",
    "            yellow_regions_rgb = cv.cvtColor(yellow_regions, cv.COLOR_HSV2BGR)\n",
    "\n",
    "            # Cropped vision\n",
    "            cv.imshow(\"Cropped vision\", cropped_image)\n",
    "            if (yellow_regions != 0).any():\n",
    "                print(\"Event logged!\")\n",
    "                event = True\n",
    "            else:\n",
    "                print(\"No event detected\")\n",
    "                event = False\n",
    "\n",
    "            # cv.imshow(\"Crop\", cropped_image)\n",
    "            cv.imshow(\"Filtered image\", yellow_regions_rgb)\n",
    "            cv.waitKey(0)\n",
    "            cv.destroyAllWindows()\n",
    "    # Break loop and end test\n",
    "    key = cv.waitKey(1)\n",
    "    if key == ord('q'):\n",
    "        cv.destroyAllWindows()\n",
    "        break\n",
    "\n",
    "    else:\n",
    "        cv.imshow(\"Computer Vision\", img)\n",
    "    \n",
    "    elapsed_time = time.time() - t0\n",
    "    avg_fps = (n_frames / elapsed_time)\n",
    "    # print(\"Average FPS: \" + str(avg_fps))\n",
    "    n_frames += 1"
   ]
  },
  {
   "cell_type": "code",
   "execution_count": null,
   "metadata": {},
   "outputs": [],
   "source": [
    "res = find(\"imagem_isca_crop.jpg\", \"imagem_isca.jpg\")"
   ]
  },
  {
   "cell_type": "code",
   "execution_count": null,
   "metadata": {},
   "outputs": [
    {
     "data": {
      "text/plain": [
       "Box(left=938, top=504, width=41, height=41)"
      ]
     },
     "execution_count": 8,
     "metadata": {},
     "output_type": "execute_result"
    }
   ],
   "source": [
    "res"
   ]
  }
 ],
 "metadata": {
  "kernelspec": {
   "display_name": "LA_pdi",
   "language": "python",
   "name": "python3"
  },
  "language_info": {
   "codemirror_mode": {
    "name": "ipython",
    "version": 3
   },
   "file_extension": ".py",
   "mimetype": "text/x-python",
   "name": "python",
   "nbconvert_exporter": "python",
   "pygments_lexer": "ipython3",
   "version": "3.12.1"
  }
 },
 "nbformat": 4,
 "nbformat_minor": 2
}
