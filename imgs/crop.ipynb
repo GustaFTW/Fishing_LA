{
 "cells": [
  {
   "cell_type": "code",
   "execution_count": 1,
   "metadata": {},
   "outputs": [],
   "source": [
    "import cv2\n",
    "import numpy as np\n",
    "import pyautogui\n",
    "import pyscreeze"
   ]
  },
  {
   "cell_type": "code",
   "execution_count": 2,
   "metadata": {},
   "outputs": [],
   "source": [
    "img = cv2.imread(\"imagem_isca_2.jpg\")"
   ]
  },
  {
   "cell_type": "code",
   "execution_count": 15,
   "metadata": {},
   "outputs": [
    {
     "name": "stdout",
     "output_type": "stream",
     "text": [
      "Procurando isca.\n",
      "Isca encontrada.\n"
     ]
    }
   ],
   "source": [
    "print(\"Procurando isca.\")\n",
    "try:\n",
    "    res = pyautogui.locate(\"imagem_isca_crop.jpg\", \"imagem_isca.jpg\", confidence=0.7)\n",
    "    # res = pyautogui.locateOnScreen(\"imagem_isca_crop.jpg\", confidence=0.7)\n",
    "    print(\"Isca encontrada.\")\n",
    "except :\n",
    "    raise ValueError(\"Isca não encontrada.\")\n"
   ]
  },
  {
   "cell_type": "code",
   "execution_count": 16,
   "metadata": {},
   "outputs": [
    {
     "data": {
      "text/plain": [
       "Box(left=938, top=504, width=41, height=41)"
      ]
     },
     "execution_count": 16,
     "metadata": {},
     "output_type": "execute_result"
    }
   ],
   "source": [
    "res"
   ]
  },
  {
   "cell_type": "code",
   "execution_count": 17,
   "metadata": {},
   "outputs": [],
   "source": [
    "# Define the coordinates for cropping (x, y, width, height)\n",
    "x, y, w, h = res[0], res[1], res[2], res[3]  # Modify these values according to your requirements\n",
    "\n",
    "# The size of the square\n",
    "shift = 80\n",
    "\n",
    "# Crop the image\n",
    "cropped_image = img[(y - shift):y+(h + shift), (x - shift):x+(w + shift)]\n",
    "\n",
    "# Display the original and cropped images\n",
    "cv2.imshow('Original Image', img)\n",
    "cv2.imshow('Cropped Image', cropped_image)\n",
    "cv2.waitKey(0)\n",
    "cv2.destroyAllWindows()"
   ]
  },
  {
   "cell_type": "code",
   "execution_count": null,
   "metadata": {},
   "outputs": [],
   "source": []
  }
 ],
 "metadata": {
  "kernelspec": {
   "display_name": "LA_pdi",
   "language": "python",
   "name": "python3"
  },
  "language_info": {
   "codemirror_mode": {
    "name": "ipython",
    "version": 3
   },
   "file_extension": ".py",
   "mimetype": "text/x-python",
   "name": "python",
   "nbconvert_exporter": "python",
   "pygments_lexer": "ipython3",
   "version": "3.12.1"
  }
 },
 "nbformat": 4,
 "nbformat_minor": 2
}
