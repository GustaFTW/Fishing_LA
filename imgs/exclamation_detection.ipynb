{
 "cells": [
  {
   "cell_type": "code",
   "execution_count": 1,
   "metadata": {},
   "outputs": [],
   "source": [
    "import cv2 as cv\n",
    "import numpy as np\n",
    "import pyautogui"
   ]
  },
  {
   "cell_type": "code",
   "execution_count": 4,
   "metadata": {},
   "outputs": [],
   "source": [
    "# image = cv.imread(\"C:\\\\Users\\\\Gusta\\\\Documents\\\\Projetos\\\\Lost Ark\\\\Fishing_LA\\\\imgs\\\\imagem_exclamacao.jpg\")\n",
    "image = cv.imread(\"imagem_exclamacao.jpg\")"
   ]
  },
  {
   "cell_type": "code",
   "execution_count": 5,
   "metadata": {},
   "outputs": [
    {
     "name": "stdout",
     "output_type": "stream",
     "text": [
      "Event logged!\n"
     ]
    }
   ],
   "source": [
    "# Convert the image to hsv\n",
    "image_hsv = cv.cvtColor(image, cv.COLOR_BGR2HSV)\n",
    "h, s, v = cv.split(image_hsv)\n",
    "                        # [24, 87, 217]\n",
    "lower_yellow = np.array([14, 75, 207])\n",
    "upper_yellow = np.array([34, 107, 227])\n",
    "\n",
    "# Define the mask for the threshold\n",
    "mask = cv.inRange(image_hsv, lower_yellow, upper_yellow)\n",
    "\n",
    "# Apply the mask using the and operation\n",
    "yellow_regions = cv.bitwise_and(image_hsv, image_hsv, mask=mask)\n",
    "\n",
    "# Convert the image back into an rgb image\n",
    "yellow_regions_rgb = cv.cvtColor(yellow_regions, cv.COLOR_HSV2BGR)\n",
    "\n",
    "if (yellow_regions != 0).any():\n",
    "    print(\"Event logged!\")\n",
    "else:\n",
    "    print(\"No event detected\")\n",
    "\n",
    "# cv.imshow(\"Crop\", cropped_image)\n",
    "cv.imshow(\"Filtered image\", yellow_regions_rgb)\n",
    "cv.waitKey(0)\n",
    "cv.destroyAllWindows()\n"
   ]
  },
  {
   "cell_type": "code",
   "execution_count": 22,
   "metadata": {},
   "outputs": [],
   "source": [
    "# hsv_image = cv.cvtColor(image, cv.COLOR_BGR2HSV)\n",
    "\n",
    "# # Display the HSV image\n",
    "# cv.imshow('HSV Image', hsv_image)\n",
    "# cv.waitKey(0)\n",
    "# cv.destroyAllWindows()"
   ]
  }
 ],
 "metadata": {
  "kernelspec": {
   "display_name": "LA_pdi",
   "language": "python",
   "name": "python3"
  },
  "language_info": {
   "codemirror_mode": {
    "name": "ipython",
    "version": 3
   },
   "file_extension": ".py",
   "mimetype": "text/x-python",
   "name": "python",
   "nbconvert_exporter": "python",
   "pygments_lexer": "ipython3",
   "version": "3.12.1"
  }
 },
 "nbformat": 4,
 "nbformat_minor": 2
}
