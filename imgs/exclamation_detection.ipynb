{
 "cells": [
  {
   "cell_type": "code",
   "execution_count": 2,
   "metadata": {},
   "outputs": [],
   "source": [
    "import cv2 as cv\n",
    "import numpy as np"
   ]
  },
  {
   "cell_type": "code",
   "execution_count": 3,
   "metadata": {},
   "outputs": [],
   "source": [
    "image = cv.imread(\"imagem_exclamacao.jpg\")\n",
    "if image is None:\n",
    "    print(\"Couldn't load image\")\n",
    "    exit()"
   ]
  },
  {
   "cell_type": "code",
   "execution_count": 7,
   "metadata": {},
   "outputs": [],
   "source": [
    "# Convert the image to hsv\n",
    "image_hsv = cv.cvtColor(image, cv.COLOR_BGR2HSV)\n",
    "h, s, v = cv.split(image_hsv)\n",
    "[24, 217, 87]\n",
    "lower_yellow = np.array([14, 77, 207])\n",
    "upper_yellow = np.array([34, 97, 227])"
   ]
  },
  {
   "cell_type": "code",
   "execution_count": 8,
   "metadata": {},
   "outputs": [],
   "source": [
    "# Define the mask for the threshold\n",
    "mask = cv.inRange(image_hsv, lower_yellow, upper_yellow)"
   ]
  },
  {
   "cell_type": "code",
   "execution_count": 9,
   "metadata": {},
   "outputs": [],
   "source": [
    "# Apply the mask using the and operation\n",
    "yellow_regions = cv.bitwise_and(image_hsv, image_hsv, mask=mask)\n",
    "\n",
    "# Convert the image back into an rgb image\n",
    "yellow_regions_rgb = cv.cvtColor(yellow_regions, cv.COLOR_HSV2BGR)\n",
    "\n",
    "cv.imshow(\"Original\", image)\n",
    "cv.imshow(\"Yellow image\", yellow_regions_rgb)\n",
    "cv.waitKey(0)\n",
    "cv.destroyAllWindows()\n"
   ]
  },
  {
   "cell_type": "code",
   "execution_count": 10,
   "metadata": {},
   "outputs": [],
   "source": [
    "# hsv_image = cv.cvtColor(image, cv.COLOR_BGR2HSV)\n",
    "\n",
    "# # Display the HSV image\n",
    "# cv.imshow('HSV Image', hsv_image)\n",
    "# cv.waitKey(0)\n",
    "# cv.destroyAllWindows()"
   ]
  }
 ],
 "metadata": {
  "kernelspec": {
   "display_name": "LA_pdi",
   "language": "python",
   "name": "python3"
  },
  "language_info": {
   "codemirror_mode": {
    "name": "ipython",
    "version": 3
   },
   "file_extension": ".py",
   "mimetype": "text/x-python",
   "name": "python",
   "nbconvert_exporter": "python",
   "pygments_lexer": "ipython3",
   "version": "3.12.1"
  }
 },
 "nbformat": 4,
 "nbformat_minor": 2
}
