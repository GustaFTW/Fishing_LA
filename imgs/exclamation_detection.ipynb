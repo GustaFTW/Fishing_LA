{
 "cells": [
  {
   "cell_type": "code",
   "execution_count": 14,
   "metadata": {},
   "outputs": [],
   "source": [
    "import cv2 as cv\n",
    "import numpy as np\n",
    "import pyautogui"
   ]
  },
  {
   "cell_type": "code",
   "execution_count": 15,
   "metadata": {},
   "outputs": [],
   "source": [
    "images = []\n",
    "images.append(cv.imread(\"imagem_isca_2.jpg\"))\n",
    "images.append(cv.imread(\"imagem_exclamacao.jpg\"))"
   ]
  },
  {
   "cell_type": "code",
   "execution_count": 17,
   "metadata": {},
   "outputs": [
    {
     "name": "stdout",
     "output_type": "stream",
     "text": [
      "Procurando isca.\n",
      "Isca nao encontrada\n",
      "No event detected\n",
      "Procurando isca.\n",
      "Isca encontrada.\n",
      "No event detected\n"
     ]
    }
   ],
   "source": [
    "for image in images:\n",
    "    print(\"Procurando isca.\")\n",
    "    try:\n",
    "        # res = pyautogui.locate(\"imagem_isca_crop.jpg\", image, confidence=0.7)\n",
    "        res = pyautogui.locateOnScreen(\"imagem_isca_crop.jpg\", confidence=0.7)\n",
    "        print(\"Isca encontrada.\")\n",
    "    except:\n",
    "        print(\"Isca nao encontrada\")\n",
    "\n",
    "    finally:\n",
    "        # Define the coordinates for cropping (x, y, width, height)\n",
    "        x, y, w, h = res[0], res[1], res[2], res[3]  # Modify these values according to your requirements\n",
    "\n",
    "        # The size of the square\n",
    "        shift = 65\n",
    "\n",
    "        # Crop the image\n",
    "        cropped_image = image[(y - shift):y+(h + shift), (x - shift):x+(w + shift)]\n",
    "        \n",
    "        # Convert the image to hsv\n",
    "        image_hsv = cv.cvtColor(cropped_image, cv.COLOR_BGR2HSV)\n",
    "        h, s, v = cv.split(image_hsv)\n",
    "                                # [24, 87, 217]\n",
    "        lower_yellow = np.array([14, 75, 207])\n",
    "        upper_yellow = np.array([34, 107, 227])\n",
    "\n",
    "        # Define the mask for the threshold\n",
    "        mask = cv.inRange(image_hsv, lower_yellow, upper_yellow)\n",
    "\n",
    "        # Apply the mask using the and operation\n",
    "        yellow_regions = cv.bitwise_and(image_hsv, image_hsv, mask=mask)e\n",
    "\n",
    "        # Convert the image back into an rgb image\n",
    "        yellow_regions_rgb = cv.cvtColor(yellow_regions, cv.COLOR_HSV2BGR)\n",
    "        \n",
    "        if (yellow_regions != 0).any():\n",
    "            print(\"Event logged!\")\n",
    "        else:\n",
    "            print(\"No event detected\")\n",
    "\n",
    "        cv.imshow(\"Crop\", cropped_image)\n",
    "        cv.imshow(\"Filtered image\", yellow_regions_rgb)\n",
    "        cv.waitKey(0)\n",
    "        cv.destroyAllWindows()\n"
   ]
  },
  {
   "cell_type": "code",
   "execution_count": 10,
   "metadata": {},
   "outputs": [],
   "source": [
    "# hsv_image = cv.cvtColor(image, cv.COLOR_BGR2HSV)\n",
    "\n",
    "# # Display the HSV image\n",
    "# cv.imshow('HSV Image', hsv_image)\n",
    "# cv.waitKey(0)\n",
    "# cv.destroyAllWindows()"
   ]
  }
 ],
 "metadata": {
  "kernelspec": {
   "display_name": "LA_pdi",
   "language": "python",
   "name": "python3"
  },
  "language_info": {
   "codemirror_mode": {
    "name": "ipython",
    "version": 3
   },
   "file_extension": ".py",
   "mimetype": "text/x-python",
   "name": "python",
   "nbconvert_exporter": "python",
   "pygments_lexer": "ipython3",
   "version": "3.12.1"
  }
 },
 "nbformat": 4,
 "nbformat_minor": 2
}
