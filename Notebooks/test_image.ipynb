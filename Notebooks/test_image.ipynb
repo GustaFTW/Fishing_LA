{
 "cells": [
  {
   "cell_type": "code",
   "execution_count": 2,
   "metadata": {},
   "outputs": [
    {
     "ename": "NotImplementedError",
     "evalue": "PyGetWindow currently does not support Linux. If you have Xlib knowledge, please contribute! https://github.com/asweigart/pygetwindow",
     "output_type": "error",
     "traceback": [
      "\u001b[0;31m---------------------------------------------------------------------------\u001b[0m",
      "\u001b[0;31mNotImplementedError\u001b[0m                       Traceback (most recent call last)",
      "Cell \u001b[0;32mIn[2], line 2\u001b[0m\n\u001b[1;32m      1\u001b[0m \u001b[38;5;28;01mimport\u001b[39;00m \u001b[38;5;21;01mcv2\u001b[39;00m\n\u001b[0;32m----> 2\u001b[0m \u001b[38;5;28;01mimport\u001b[39;00m \u001b[38;5;21;01mpygetwindow\u001b[39;00m \u001b[38;5;28;01mas\u001b[39;00m \u001b[38;5;21;01mgw\u001b[39;00m\n\u001b[1;32m      4\u001b[0m \u001b[38;5;28;01mdef\u001b[39;00m \u001b[38;5;21mcapture_window\u001b[39m(window_title):\n\u001b[1;32m      5\u001b[0m     \u001b[38;5;66;03m# Get the window by title\u001b[39;00m\n\u001b[1;32m      6\u001b[0m     window \u001b[38;5;241m=\u001b[39m gw\u001b[38;5;241m.\u001b[39mgetWindowsWithTitle(window_title)[\u001b[38;5;241m0\u001b[39m]\n",
      "File \u001b[0;32m~/anaconda3/envs/LA_pdi/lib/python3.12/site-packages/pygetwindow/__init__.py:347\u001b[0m\n\u001b[1;32m    345\u001b[0m     Window \u001b[38;5;241m=\u001b[39m Win32Window\n\u001b[1;32m    346\u001b[0m \u001b[38;5;28;01melse\u001b[39;00m:\n\u001b[0;32m--> 347\u001b[0m     \u001b[38;5;28;01mraise\u001b[39;00m \u001b[38;5;167;01mNotImplementedError\u001b[39;00m(\n\u001b[1;32m    348\u001b[0m         \u001b[38;5;124m\"\u001b[39m\u001b[38;5;124mPyGetWindow currently does not support Linux. If you have Xlib knowledge, please contribute! https://github.com/asweigart/pygetwindow\u001b[39m\u001b[38;5;124m\"\u001b[39m\n\u001b[1;32m    349\u001b[0m     )\n",
      "\u001b[0;31mNotImplementedError\u001b[0m: PyGetWindow currently does not support Linux. If you have Xlib knowledge, please contribute! https://github.com/asweigart/pygetwindow"
     ]
    }
   ],
   "source": [
    "import cv2\n",
    "import pygetwindow as gw\n",
    "\n",
    "def capture_window(window_title):\n",
    "    # Get the window by title\n",
    "    window = gw.getWindowsWithTitle(window_title)[0]\n",
    "    \n",
    "    # Activate the window\n",
    "    window.activate()\n",
    "\n",
    "    # Capture the screen content within the window\n",
    "    screenshot = gw.screenshot(region=(window.left, window.top, window.width, window.height))\n",
    "\n",
    "    # Convert the screenshot to a NumPy array (OpenCV format)\n",
    "    screenshot_np = cv2.cvtColor(np.array(screenshot), cv2.COLOR_RGB2BGR)\n",
    "\n",
    "    # Display the captured image\n",
    "    cv2.imshow('Captured Window', screenshot_np)\n",
    "    cv2.waitKey(0)\n",
    "\n",
    "    # Save the captured image\n",
    "    cv2.imwrite('captured_window.png', screenshot_np)\n",
    "    print('Image captured and saved as captured_window.png')\n",
    "\n",
    "# Replace 'Your Window Title' with the actual title of the window you want to capture\n",
    "capture_window('Your Window Title')\n"
   ]
  },
  {
   "cell_type": "code",
   "execution_count": null,
   "metadata": {},
   "outputs": [],
   "source": []
  }
 ],
 "metadata": {
  "kernelspec": {
   "display_name": "LA_pdi",
   "language": "python",
   "name": "python3"
  },
  "language_info": {
   "codemirror_mode": {
    "name": "ipython",
    "version": 3
   },
   "file_extension": ".py",
   "mimetype": "text/x-python",
   "name": "python",
   "nbconvert_exporter": "python",
   "pygments_lexer": "ipython3",
   "version": "3.12.1"
  }
 },
 "nbformat": 4,
 "nbformat_minor": 2
}
