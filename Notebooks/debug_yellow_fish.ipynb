{
 "cells": [
  {
   "cell_type": "code",
   "execution_count": 1,
   "metadata": {},
   "outputs": [],
   "source": [
    "import pyautogui\n",
    "import cv2 as cv\n",
    "import numpy as np"
   ]
  },
  {
   "cell_type": "code",
   "execution_count": 2,
   "metadata": {},
   "outputs": [],
   "source": [
    "curr_img = cv.imread(\"/l/disk0/ghenrique/Documents/projeto_LA/Fishing_LA/imgs/imagem_peixe_amarelo_2.jpg\")\n",
    "fishing_target = cv.imread(\"/l/disk0/ghenrique/Documents/projeto_LA/Fishing_LA/modules/fishing/assets/crop_raridade_roxa.jpg\")"
   ]
  },
  {
   "cell_type": "code",
   "execution_count": 3,
   "metadata": {},
   "outputs": [],
   "source": [
    "res = pyautogui.locate(fishing_target, \n",
    "                       curr_img, \n",
    "                       confidence=0.7)"
   ]
  },
  {
   "cell_type": "code",
   "execution_count": 4,
   "metadata": {},
   "outputs": [],
   "source": [
    "exclamation_img = cv.imread(\"/l/disk0/ghenrique/Documents/projeto_LA/Fishing_LA/imgs/imagem_exclamacao.jpg\")"
   ]
  },
  {
   "cell_type": "code",
   "execution_count": 5,
   "metadata": {},
   "outputs": [],
   "source": [
    "SHIFT = 10\n",
    "# Define the res\n",
    "x, y, w, h = res \n",
    "# Crop the image\n",
    "# image = np.array(exclamation_img)[(y - SHIFT):y + (h - (int(SHIFT / 2))), (x - SHIFT):x +(w + SHIFT)]\n",
    "image = np.array(exclamation_img)[(y - (SHIFT + 30)):(y + SHIFT//2), (x - (SHIFT - 20)):(x + w + (SHIFT - 20))]\n",
    "\n",
    "# Convert the image to hsv\n",
    "image_hsv = cv.cvtColor(image, cv.COLOR_BGR2HSV)\n",
    "lower_yellow = np.array([14, 75, 207])\n",
    "upper_yellow = np.array([34, 107, 227])\n",
    "\n",
    "# Define the mask for the threshold\n",
    "mask = cv.inRange(image_hsv, lower_yellow, upper_yellow)\n",
    "\n",
    "# Apply the mask using the and operation\n",
    "yellow_regions = cv.bitwise_and(image_hsv, image_hsv, mask=mask)\n",
    "\n",
    "yellow_regions_rgb = cv.cvtColor(yellow_regions, cv.COLOR_HSV2BGR)"
   ]
  },
  {
   "cell_type": "code",
   "execution_count": 6,
   "metadata": {},
   "outputs": [],
   "source": [
    "cv.imshow(\"display\", image)\n",
    "cv.waitKey(0)\n",
    "cv.destroyAllWindows()"
   ]
  }
 ],
 "metadata": {
  "kernelspec": {
   "display_name": "LA_pdi",
   "language": "python",
   "name": "python3"
  },
  "language_info": {
   "codemirror_mode": {
    "name": "ipython",
    "version": 3
   },
   "file_extension": ".py",
   "mimetype": "text/x-python",
   "name": "python",
   "nbconvert_exporter": "python",
   "pygments_lexer": "ipython3",
   "version": "3.12.1"
  }
 },
 "nbformat": 4,
 "nbformat_minor": 2
}
