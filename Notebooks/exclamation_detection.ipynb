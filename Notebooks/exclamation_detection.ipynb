{
 "cells": [
  {
   "cell_type": "code",
   "execution_count": 17,
   "metadata": {},
   "outputs": [],
   "source": [
    "import cv2 as cv\n",
    "import numpy as np\n",
    "import pyautogui"
   ]
  },
  {
   "cell_type": "code",
   "execution_count": 18,
   "metadata": {},
   "outputs": [],
   "source": [
    "image = cv.imread(\"C:\\\\Users\\\\Gusta\\\\Documents\\\\Projetos\\\\Lost Ark\\\\Fishing_LA\\\\imgs\\\\imagem_exclamacao.jpg\")\n"
   ]
  },
  {
   "cell_type": "code",
   "execution_count": 19,
   "metadata": {},
   "outputs": [],
   "source": [
    "# for image in images:\n",
    "#     print(\"Procurando isca.\")\n",
    "#     try:\n",
    "#         # res = pyautogui.locate(\"imagem_isca_crop.jpg\", image, confidence=0.7)\n",
    "#         res = pyautogui.locateOnScreen(\"imagem_isca_crop.jpg\", confidence=0.7)\n",
    "#         print(\"Isca encontrada.\")\n",
    "#     except:\n",
    "#         print(\"Isca nao encontrada\")"
   ]
  },
  {
   "cell_type": "code",
   "execution_count": 20,
   "metadata": {},
   "outputs": [
    {
     "name": "stdout",
     "output_type": "stream",
     "text": [
      "[[[ 29  28  24]\n",
      "  [ 25  24  20]\n",
      "  [ 23  19  14]\n",
      "  ...\n",
      "  [119 111  94]\n",
      "  [113 103  86]\n",
      "  [107  97  80]]\n",
      "\n",
      " [[ 26  25  21]\n",
      "  [ 25  22  18]\n",
      "  [ 23  20  15]\n",
      "  ...\n",
      "  [123 115  98]\n",
      "  [115 105  88]\n",
      "  [109  99  82]]\n",
      "\n",
      " [[ 24  21  16]\n",
      "  [ 24  21  16]\n",
      "  [ 24  21  16]\n",
      "  ...\n",
      "  [120 110  92]\n",
      "  [112 102  84]\n",
      "  [112 102  84]]\n",
      "\n",
      " ...\n",
      "\n",
      " [[ 19   1   0]\n",
      "  [ 41  13   0]\n",
      "  [182 133  63]\n",
      "  ...\n",
      "  [  8   9   7]\n",
      "  [  1   2   0]\n",
      "  [  0   1   0]]\n",
      "\n",
      " [[  3   4   8]\n",
      "  [ 15   7   0]\n",
      "  [ 59  37   9]\n",
      "  ...\n",
      "  [ 23  23  23]\n",
      "  [ 14  14  14]\n",
      "  [  5   5   5]]\n",
      "\n",
      " [[ 13  22  35]\n",
      "  [ 30  34  39]\n",
      "  [ 30  21  12]\n",
      "  ...\n",
      "  [ 29  29  29]\n",
      "  [ 28  28  28]\n",
      "  [ 24  24  24]]]\n"
     ]
    }
   ],
   "source": [
    "print(image)"
   ]
  },
  {
   "cell_type": "code",
   "execution_count": 21,
   "metadata": {},
   "outputs": [
    {
     "name": "stdout",
     "output_type": "stream",
     "text": [
      "Event logged!\n"
     ]
    }
   ],
   "source": [
    "# Convert the image to hsv\n",
    "image_hsv = cv.cvtColor(image, cv.COLOR_BGR2HSV)\n",
    "h, s, v = cv.split(image_hsv)\n",
    "                        # [24, 87, 217]\n",
    "lower_yellow = np.array([14, 75, 207])\n",
    "upper_yellow = np.array([34, 107, 227])\n",
    "\n",
    "# Define the mask for the threshold\n",
    "mask = cv.inRange(image_hsv, lower_yellow, upper_yellow)\n",
    "\n",
    "# Apply the mask using the and operation\n",
    "yellow_regions = cv.bitwise_and(image_hsv, image_hsv, mask=mask)\n",
    "\n",
    "# Convert the image back into an rgb image\n",
    "yellow_regions_rgb = cv.cvtColor(yellow_regions, cv.COLOR_HSV2BGR)\n",
    "\n",
    "if (yellow_regions != 0).any():\n",
    "    print(\"Event logged!\")\n",
    "else:\n",
    "    print(\"No event detected\")\n",
    "\n",
    "# cv.imshow(\"Crop\", cropped_image)\n",
    "cv.imshow(\"Filtered image\", yellow_regions_rgb)\n",
    "cv.waitKey(0)\n",
    "cv.destroyAllWindows()\n"
   ]
  },
  {
   "cell_type": "code",
   "execution_count": 22,
   "metadata": {},
   "outputs": [],
   "source": [
    "# hsv_image = cv.cvtColor(image, cv.COLOR_BGR2HSV)\n",
    "\n",
    "# # Display the HSV image\n",
    "# cv.imshow('HSV Image', hsv_image)\n",
    "# cv.waitKey(0)\n",
    "# cv.destroyAllWindows()"
   ]
  }
 ],
 "metadata": {
  "kernelspec": {
   "display_name": "LA_pdi",
   "language": "python",
   "name": "python3"
  },
  "language_info": {
   "codemirror_mode": {
    "name": "ipython",
    "version": 3
   },
   "file_extension": ".py",
   "mimetype": "text/x-python",
   "name": "python",
   "nbconvert_exporter": "python",
   "pygments_lexer": "ipython3",
   "version": "3.12.1"
  }
 },
 "nbformat": 4,
 "nbformat_minor": 2
}
