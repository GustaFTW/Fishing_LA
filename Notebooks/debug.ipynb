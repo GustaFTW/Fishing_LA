{
 "cells": [
  {
   "cell_type": "code",
   "execution_count": null,
   "metadata": {},
   "outputs": [],
   "source": [
    "   def crop_and_watch_lure(self, res):\n",
    "        print(\"Watching lure\")\n",
    "        watch_time = time.time()\n",
    "\n",
    "        while True:\n",
    "            print(\"still looking...\")\n",
    "            try: \n",
    "                # Define the res\n",
    "                x, y, w, h = res \n",
    "                # Crop the image\n",
    "                image = self.main_agent.cur_img[(y - SHIFT):y+(h + SHIFT), (x - SHIFT):x +(w + SHIFT)]\n",
    "\n",
    "                # Convert the image to hsv\n",
    "                image_hsv = cv.cvtColor(image, cv.COLOR_BGR2HSV)\n",
    "                lower_yellow = np.array([14, 75, 207])\n",
    "                upper_yellow = np.array([34, 107, 227])\n",
    "\n",
    "                # Define the mask for the threshold\n",
    "                mask = cv.inRange(image_hsv, lower_yellow, upper_yellow)\n",
    "\n",
    "                # Apply the mask using the and operation\n",
    "                yellow_regions = cv.bitwise_and(image_hsv, image_hsv, mask=mask)\n",
    "\n",
    "                if (yellow_regions != 0).any():\n",
    "                    print(\"Fish hooked!\")\n",
    "                    self.pull_line()\n",
    "                if time.time() - watch_time >= FISHING_WATCH_TIME:\n",
    "                    print(\"Time out\")\n",
    "                    break\n",
    "                time.sleep(1)\n",
    "            except:\n",
    "                print(\"error\")\n",
    "        self.pull_line()"
   ]
  }
 ],
 "metadata": {
  "language_info": {
   "name": "python"
  }
 },
 "nbformat": 4,
 "nbformat_minor": 2
}
